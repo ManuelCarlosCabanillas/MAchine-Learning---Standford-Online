{
 "cells": [
  {
   "cell_type": "code",
   "execution_count": 2,
   "id": "55c21cb7",
   "metadata": {},
   "outputs": [
    {
     "name": "stdout",
     "output_type": "stream",
     "text": [
      "X =\n",
      "\n",
      "   24.477   50.983\n",
      "   35.829   94.905\n",
      "   20.807   58.592\n",
      "   52.693   85.977\n",
      "   37.446   82.940\n",
      "   16.590   70.974\n",
      "   48.518   95.472\n",
      "   86.670   86.782\n",
      "   89.180   30.868\n",
      "   75.451   35.360\n",
      "\n",
      "X =\n",
      "\n",
      "    1.0000   24.4767   50.9833\n",
      "    1.0000   35.8289   94.9051\n",
      "    1.0000   20.8070   58.5918\n",
      "    1.0000   52.6930   85.9774\n",
      "    1.0000   37.4464   82.9396\n",
      "    1.0000   16.5903   70.9739\n",
      "    1.0000   48.5183   95.4724\n",
      "    1.0000   86.6699   86.7823\n",
      "    1.0000   89.1795   30.8680\n",
      "    1.0000   75.4509   35.3601\n",
      "\n",
      "theta =\n",
      "\n",
      "  -24.00000\n",
      "    0.20000\n",
      "    0.20000\n",
      "\n"
     ]
    }
   ],
   "source": [
    "X = rand (10,2)*100\n",
    "[m, n] = size(X);\n",
    "X = [ones(m, 1) X];\n",
    "theta = [-24; 0.2; 0.2];\n",
    "X\n",
    "theta"
   ]
  },
  {
   "cell_type": "code",
   "execution_count": 3,
   "id": "06189a7b",
   "metadata": {},
   "outputs": [
    {
     "name": "stdout",
     "output_type": "stream",
     "text": [
      "error: operator *: nonconformant arguments (op1 is 1x3, op2 is 10x3)\n"
     ]
    }
   ],
   "source": [
    "z=theta' * X"
   ]
  },
  {
   "cell_type": "code",
   "execution_count": null,
   "id": "a0ba5e55",
   "metadata": {},
   "outputs": [],
   "source": []
  },
  {
   "cell_type": "code",
   "execution_count": null,
   "id": "0ee3bcf4",
   "metadata": {},
   "outputs": [],
   "source": []
  },
  {
   "cell_type": "code",
   "execution_count": null,
   "id": "7cd6d02e",
   "metadata": {},
   "outputs": [],
   "source": []
  }
 ],
 "metadata": {
  "kernelspec": {
   "display_name": "Octave",
   "language": "octave",
   "name": "octave"
  },
  "language_info": {
   "file_extension": ".m",
   "help_links": [
    {
     "text": "GNU Octave",
     "url": "https://www.gnu.org/software/octave/support.html"
    },
    {
     "text": "Octave Kernel",
     "url": "https://github.com/Calysto/octave_kernel"
    },
    {
     "text": "MetaKernel Magics",
     "url": "https://metakernel.readthedocs.io/en/latest/source/README.html"
    }
   ],
   "mimetype": "text/x-octave",
   "name": "octave",
   "version": "5.2.0"
  }
 },
 "nbformat": 4,
 "nbformat_minor": 5
}
