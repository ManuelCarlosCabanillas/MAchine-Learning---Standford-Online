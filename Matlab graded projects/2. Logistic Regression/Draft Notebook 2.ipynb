{
 "cells": [
  {
   "cell_type": "code",
   "execution_count": 1,
   "id": "55c21cb7",
   "metadata": {},
   "outputs": [
    {
     "name": "stdout",
     "output_type": "stream",
     "text": [
      "X =\n",
      "\n",
      "   33.9889   14.1292\n",
      "   59.3694    1.6811\n",
      "    1.3600   99.4016\n",
      "   69.7052   50.2520\n",
      "    4.7767    7.2447\n",
      "   19.0135   12.6510\n",
      "   14.4128   26.7733\n",
      "    4.5450   20.7203\n",
      "   31.9460   86.0514\n",
      "    1.7010   15.7090\n",
      "\n",
      "y =\n",
      "\n",
      "   944.8940\n",
      "   559.5011\n",
      "     5.9445\n",
      "   529.2563\n",
      "    76.0486\n",
      "   164.4224\n",
      "   119.9392\n",
      "   253.8037\n",
      "   936.9971\n",
      "   491.9921\n",
      "\n",
      "X =\n",
      "\n",
      "    1.0000   33.9889   14.1292\n",
      "    1.0000   59.3694    1.6811\n",
      "    1.0000    1.3600   99.4016\n",
      "    1.0000   69.7052   50.2520\n",
      "    1.0000    4.7767    7.2447\n",
      "    1.0000   19.0135   12.6510\n",
      "    1.0000   14.4128   26.7733\n",
      "    1.0000    4.5450   20.7203\n",
      "    1.0000   31.9460   86.0514\n",
      "    1.0000    1.7010   15.7090\n",
      "\n",
      "theta =\n",
      "\n",
      "  -24.00000\n",
      "    0.20000\n",
      "    0.50000\n",
      "\n"
     ]
    }
   ],
   "source": [
    "X = rand (10,2)*100\n",
    "y = rand (10,1)*1000\n",
    "[m, n] = size(X);\n",
    "X = [ones(m, 1) X];\n",
    "theta = [-24; 0.2; 0.5];\n",
    "X\n",
    "theta"
   ]
  },
  {
   "cell_type": "code",
   "execution_count": 2,
   "id": "06189a7b",
   "metadata": {},
   "outputs": [
    {
     "name": "stdout",
     "output_type": "stream",
     "text": [
      "z =\n",
      "\n",
      "  -10.1376\n",
      "  -11.2855\n",
      "   25.9728\n",
      "   15.0670\n",
      "  -19.4223\n",
      "  -13.8718\n",
      "   -7.7308\n",
      "  -12.7309\n",
      "   25.4149\n",
      "  -15.8053\n",
      "\n"
     ]
    }
   ],
   "source": [
    "z=X*theta"
   ]
  },
  {
   "cell_type": "code",
   "execution_count": 3,
   "id": "a0ba5e55",
   "metadata": {
    "scrolled": true
   },
   "outputs": [
    {
     "name": "stdout",
     "output_type": "stream",
     "text": [
      "g =\n",
      "\n",
      "   0.0000395612847\n",
      "   0.0000125530157\n",
      "   0.9999999999947\n",
      "   0.9999997139310\n",
      "   0.0000000036729\n",
      "   0.0000009452536\n",
      "   0.0004389013265\n",
      "   0.0000029583828\n",
      "   0.9999999999908\n",
      "   0.0000001367249\n",
      "\n"
     ]
    }
   ],
   "source": [
    "sigmoid(z);"
   ]
  },
  {
   "cell_type": "code",
   "execution_count": 4,
   "id": "0ee3bcf4",
   "metadata": {},
   "outputs": [
    {
     "name": "stdout",
     "output_type": "stream",
     "text": [
      "g =\n",
      "\n",
      "   0.0000395612847\n",
      "   0.0000125530157\n",
      "   0.9999999999947\n",
      "   0.9999997139310\n",
      "   0.0000000036729\n",
      "   0.0000009452536\n",
      "   0.0004389013265\n",
      "   0.0000029583828\n",
      "   0.9999999999908\n",
      "   0.0000001367249\n",
      "\n",
      "g =\n",
      "\n",
      "   0.0000395612847\n",
      "   0.0000125530157\n",
      "   0.9999999999947\n",
      "   0.9999997139310\n",
      "   0.0000000036729\n",
      "   0.0000009452536\n",
      "   0.0004389013265\n",
      "   0.0000029583828\n",
      "   0.9999999999908\n",
      "   0.0000001367249\n",
      "\n"
     ]
    }
   ],
   "source": [
    "J=  (-y' * log(sigmoid(z)) - (1 - y)' * log(1- sigmoid(z)))/m;"
   ]
  },
  {
   "cell_type": "code",
   "execution_count": 5,
   "id": "2f7e5344",
   "metadata": {},
   "outputs": [
    {
     "name": "stdout",
     "output_type": "stream",
     "text": [
      "g =\n",
      "\n",
      "   0.0000395612847\n",
      "   0.0000125530157\n",
      "   0.9999999999947\n",
      "   0.9999997139310\n",
      "   0.0000000036729\n",
      "   0.0000009452536\n",
      "   0.0004389013265\n",
      "   0.0000029583828\n",
      "   0.9999999999908\n",
      "   0.0000001367249\n",
      "\n"
     ]
    }
   ],
   "source": [
    "h_theta = sigmoid(X * theta); % X: m * n theta: n * 1 h_theta: m * 1\n",
    "\n",
    "J = (-y' * log(h_theta) - (1 - y)' * log(1 - h_theta)) / m; % y: m * 1"
   ]
  },
  {
   "cell_type": "code",
   "execution_count": null,
   "id": "b252895d",
   "metadata": {},
   "outputs": [],
   "source": []
  },
  {
   "cell_type": "code",
   "execution_count": 6,
   "id": "2bea9131",
   "metadata": {},
   "outputs": [
    {
     "name": "stdout",
     "output_type": "stream",
     "text": [
      "lambda =  5\n",
      "z =\n",
      "\n",
      "  -10.1376\n",
      "  -11.2855\n",
      "   25.9728\n",
      "   15.0670\n",
      "  -19.4223\n",
      "  -13.8718\n",
      "   -7.7308\n",
      "  -12.7309\n",
      "   25.4149\n",
      "  -15.8053\n",
      "\n",
      "g =\n",
      "\n",
      "   0.0000395612847\n",
      "   0.0000125530157\n",
      "   0.9999999999947\n",
      "   0.9999997139310\n",
      "   0.0000000036729\n",
      "   0.0000009452536\n",
      "   0.0004389013265\n",
      "   0.0000029583828\n",
      "   0.9999999999908\n",
      "   0.0000001367249\n",
      "\n",
      "g =\n",
      "\n",
      "   0.0000395612847\n",
      "   0.0000125530157\n",
      "   0.9999999999947\n",
      "   0.9999997139310\n",
      "   0.0000000036729\n",
      "   0.0000009452536\n",
      "   0.0004389013265\n",
      "   0.0000029583828\n",
      "   0.9999999999908\n",
      "   0.0000001367249\n",
      "\n",
      "J =  115.04\n",
      "g =\n",
      "\n",
      "   0.0000395612847\n",
      "   0.0000125530157\n",
      "   0.9999999999947\n",
      "   0.9999997139310\n",
      "   0.0000000036729\n",
      "   0.0000009452536\n",
      "   0.0004389013265\n",
      "   0.0000029583828\n",
      "   0.9999999999908\n",
      "   0.0000001367249\n",
      "\n",
      "error: =: nonconformant arguments (op1 is 1x1, op2 is 10x1)\n",
      "g =\n",
      "\n",
      "   0.0000395612847\n",
      "   0.0000125530157\n",
      "   0.9999999999947\n",
      "   0.9999997139310\n",
      "   0.0000000036729\n",
      "   0.0000009452536\n",
      "   0.0004389013265\n",
      "   0.0000029583828\n",
      "   0.9999999999908\n",
      "   0.0000001367249\n",
      "\n",
      "error: =: nonconformant arguments (op1 is 1x1, op2 is 10x1)\n"
     ]
    }
   ],
   "source": [
    "grad = zeros(size(theta));\n",
    "lambda=5\n",
    "\n",
    "z= X * theta\n",
    "J= (-y' * log(sigmoid(z)) - (1 - y)' * log(1- sigmoid(z)))/m ...\n",
    "    + (theta'*theta) * lambda/(2*m)\n",
    "\n",
    "grad(1) = (X(1)' * (sigmoid(z) - y))/m\n",
    "for g=2:size(theta)\n",
    "  grad(g) = (X(g)' * (sigmoid(z) - y))/m + (lambda/m) * theta(g)\n",
    "  \n",
    "endfor"
   ]
  },
  {
   "cell_type": "code",
   "execution_count": 7,
   "id": "24d704c2",
   "metadata": {},
   "outputs": [
    {
     "name": "stdout",
     "output_type": "stream",
     "text": [
      "g =\n",
      "\n",
      "   0.0000395612847\n",
      "   0.0000125530157\n",
      "   0.9999999999947\n",
      "   0.9999997139310\n",
      "   0.0000000036729\n",
      "   0.0000009452536\n",
      "   0.0004389013265\n",
      "   0.0000029583828\n",
      "   0.9999999999908\n",
      "   0.0000001367249\n",
      "\n",
      "ans =\n",
      "\n",
      "  -94.48940\n",
      "  -55.95011\n",
      "   -0.49445\n",
      "  -52.82563\n",
      "   -7.60486\n",
      "  -16.44224\n",
      "  -11.99387\n",
      "  -25.38037\n",
      "  -93.59971\n",
      "  -49.19921\n",
      "\n"
     ]
    }
   ],
   "source": [
    "(X(1)' * (sigmoid(z) - y))/m"
   ]
  },
  {
   "cell_type": "code",
   "execution_count": null,
   "id": "ccd8807b",
   "metadata": {},
   "outputs": [],
   "source": [
    "\n"
   ]
  },
  {
   "cell_type": "code",
   "execution_count": 8,
   "id": "c18dcf21",
   "metadata": {},
   "outputs": [
    {
     "name": "stdout",
     "output_type": "stream",
     "text": [
      "ans =  576.29\n"
     ]
    }
   ],
   "source": [
    "theta'*theta"
   ]
  },
  {
   "cell_type": "code",
   "execution_count": 9,
   "id": "f05e0798",
   "metadata": {},
   "outputs": [
    {
     "name": "stdout",
     "output_type": "stream",
     "text": [
      "theta =\n",
      "\n",
      "  -24.00000\n",
      "    0.20000\n",
      "    0.50000\n",
      "\n"
     ]
    }
   ],
   "source": [
    "theta"
   ]
  },
  {
   "cell_type": "code",
   "execution_count": 10,
   "id": "9cee5af0",
   "metadata": {},
   "outputs": [
    {
     "name": "stdout",
     "output_type": "stream",
     "text": [
      "parse error:\n",
      "\n",
      "  syntax error\n",
      "\n",
      ">>> theta(2:)\n",
      "            ^\n",
      "\n"
     ]
    }
   ],
   "source": [
    "theta(2:)"
   ]
  },
  {
   "cell_type": "code",
   "execution_count": 11,
   "id": "35748546",
   "metadata": {},
   "outputs": [
    {
     "name": "stdout",
     "output_type": "stream",
     "text": [
      "theta_reg =\n",
      "\n",
      "  -24.00000\n",
      "    0.20000\n",
      "    0.50000\n",
      "\n",
      "theta_reg =\n",
      "\n",
      "   0.20000\n",
      "   0.50000\n",
      "\n",
      "ans =  0.20000\n"
     ]
    }
   ],
   "source": [
    "theta_reg = theta\n",
    "theta_reg(1) = []\n",
    "theta_reg(1)"
   ]
  },
  {
   "cell_type": "code",
   "execution_count": 12,
   "id": "f455ecf9",
   "metadata": {},
   "outputs": [
    {
     "name": "stdout",
     "output_type": "stream",
     "text": [
      "theta =\n",
      "\n",
      "  -24.00000\n",
      "    0.20000\n",
      "    0.50000\n",
      "\n"
     ]
    }
   ],
   "source": [
    "theta"
   ]
  },
  {
   "cell_type": "code",
   "execution_count": 13,
   "id": "cd98956c",
   "metadata": {},
   "outputs": [
    {
     "name": "stdout",
     "output_type": "stream",
     "text": [
      "g =\n",
      "\n",
      "   0.0000395612847\n",
      "   0.0000125530157\n",
      "   0.9999999999947\n",
      "   0.9999997139310\n",
      "   0.0000000036729\n",
      "   0.0000009452536\n",
      "   0.0004389013265\n",
      "   0.0000029583828\n",
      "   0.9999999999908\n",
      "   0.0000001367249\n",
      "\n",
      "ans =\n",
      "\n",
      "     3.0005\n",
      "   103.0196\n",
      "   235.7174\n",
      "\n",
      "g =\n",
      "\n",
      "   0.0000395612847\n",
      "   0.0000125530157\n",
      "   0.9999999999947\n",
      "   0.9999997139310\n",
      "   0.0000000036729\n",
      "   0.0000009452536\n",
      "   0.0004389013265\n",
      "   0.0000029583828\n",
      "   0.9999999999908\n",
      "   0.0000001367249\n",
      "\n",
      "ans =\n",
      "\n",
      "     3.0005   103.0196   235.7174\n",
      "\n"
     ]
    }
   ],
   "source": [
    "X'*sigmoid(z)\n",
    "sigmoid(z)'*X"
   ]
  },
  {
   "cell_type": "code",
   "execution_count": 14,
   "id": "5a6cefed",
   "metadata": {},
   "outputs": [
    {
     "name": "stdout",
     "output_type": "stream",
     "text": [
      "X =\n",
      "\n",
      "    1.0000   33.9889   14.1292\n",
      "    1.0000   59.3694    1.6811\n",
      "    1.0000    1.3600   99.4016\n",
      "    1.0000   69.7052   50.2520\n",
      "    1.0000    4.7767    7.2447\n",
      "    1.0000   19.0135   12.6510\n",
      "    1.0000   14.4128   26.7733\n",
      "    1.0000    4.5450   20.7203\n",
      "    1.0000   31.9460   86.0514\n",
      "    1.0000    1.7010   15.7090\n",
      "\n"
     ]
    }
   ],
   "source": [
    "X"
   ]
  },
  {
   "cell_type": "code",
   "execution_count": 1,
   "id": "6435f68a",
   "metadata": {},
   "outputs": [
    {
     "name": "stdout",
     "output_type": "stream",
     "text": [
      "ans =\n",
      "\n",
      "  0  0  1  0  0  0  0  0  0  0\n",
      "\n"
     ]
    }
   ],
   "source": [
    "a = 1:10; % Create a and b\n",
    "b = 3;\n",
    "a == b % You should try different values of b here"
   ]
  },
  {
   "cell_type": "code",
   "execution_count": 2,
   "id": "eb322de0",
   "metadata": {},
   "outputs": [
    {
     "name": "stdout",
     "output_type": "stream",
     "text": [
      "b =  3\n"
     ]
    }
   ],
   "source": [
    "b"
   ]
  },
  {
   "cell_type": "code",
   "execution_count": 3,
   "id": "b068b1fc",
   "metadata": {},
   "outputs": [
    {
     "name": "stdout",
     "output_type": "stream",
     "text": [
      "a =\n",
      "\n",
      "    1    2    3    4    5    6    7    8    9   10\n",
      "\n"
     ]
    }
   ],
   "source": [
    "a"
   ]
  },
  {
   "cell_type": "code",
   "execution_count": null,
   "id": "eb33525f",
   "metadata": {},
   "outputs": [],
   "source": []
  }
 ],
 "metadata": {
  "kernelspec": {
   "display_name": "Octave",
   "language": "octave",
   "name": "octave"
  },
  "language_info": {
   "file_extension": ".m",
   "help_links": [
    {
     "text": "GNU Octave",
     "url": "https://www.gnu.org/software/octave/support.html"
    },
    {
     "text": "Octave Kernel",
     "url": "https://github.com/Calysto/octave_kernel"
    },
    {
     "text": "MetaKernel Magics",
     "url": "https://metakernel.readthedocs.io/en/latest/source/README.html"
    }
   ],
   "mimetype": "text/x-octave",
   "name": "octave",
   "version": "5.2.0"
  }
 },
 "nbformat": 4,
 "nbformat_minor": 5
}
